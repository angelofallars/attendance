{
 "cells": [
  {
   "cell_type": "code",
   "execution_count": 3,
   "id": "d477c7d7-e283-40fb-a9ea-785f6028c645",
   "metadata": {},
   "outputs": [],
   "source": [
    "# Setup\n",
    "import re\n",
    "import pandas as pd\n",
    "import os\n",
    "\n",
    "# First, get the file\n",
    "with open('./students.txt') as file:\n",
    "    names = file.readlines()\n",
    "    \n",
    "# Strip the \\n newlines\n",
    "names = [i.rstrip('\\n') for i in names]"
   ]
  },
  {
   "cell_type": "code",
   "execution_count": 4,
   "id": "569a5bba-49bb-41c2-bcd0-2543eb32cca3",
   "metadata": {},
   "outputs": [
    {
     "name": "stdout",
     "output_type": "stream",
     "text": [
      "['JOHN LEWIS AGUIRRE', 'JOSHUA ZANE ALLANIGUI', 'DON CARLOS FERDINAND BACANI', 'VON LIAM CANADA', 'GREGORY CEF CATELO', 'MATTHEW COPON', 'JOSEPH DACUDAG', 'RALPH ENZO DE GUZMAN', 'JUWAN ALLEN DY', 'BIEN ANGELO FALLARIA', 'THOMAS FLORES', 'SANUEL MATTHEW GATCHALIAN', 'PERMON ALDREI JACKSON', 'LANCE PAOLO JAVIER', 'FRANCESCA ELYANNA LAMANO', 'JOHN GERARD LUIS LEDDA', 'PAQUITO MADRIAGA', 'KYNE ALASTAIR MAGTANGOB', 'YVES MANAHAN', 'ALESSANDRA SOFIA MERHAN', 'GIANELLI MARELLA NUCUM', 'ANDRE PENOLIO', 'RODNEY REYES', 'STEPHANIE SANDAGAN', 'JEREMY FLYNN SIMBAJON', 'RALPH DWAYNE UMALI', 'JUSTIN RUSSEL VITO', 'YOSHITOMI YAMADA']\n"
     ]
    }
   ],
   "source": [
    "# My class has 28 students so we should make sure they're 28\n",
    "print(names)\n",
    "assert len(names) == 28, 'Error'"
   ]
  },
  {
   "cell_type": "code",
   "execution_count": 6,
   "id": "3a65703a-ac5c-4987-9086-56fd3abd86a6",
   "metadata": {},
   "outputs": [
    {
     "name": "stdout",
     "output_type": "stream",
     "text": [
      "AGUIRRE, JOHN LEWIS\n",
      "ALLANIGUI, JOSHUA ZANE\n",
      "BACANI, DON CARLOS FERDINAND\n",
      "CANADA, VON LIAM\n",
      "CATELO, GREGORY CEF\n",
      "COPON, MATTHEW\n",
      "DACUDAG, JOSEPH\n",
      "GUZMAN, RALPH ENZO DE\n",
      "DY, JUWAN ALLEN\n",
      "FALLARIA, BIEN ANGELO\n",
      "FLORES, THOMAS\n",
      "GATCHALIAN, SANUEL MATTHEW\n",
      "JACKSON, PERMON ALDREI\n",
      "JAVIER, LANCE PAOLO\n",
      "LAMANO, FRANCESCA ELYANNA\n",
      "LEDDA, JOHN GERARD LUIS\n",
      "MADRIAGA, PAQUITO\n",
      "MAGTANGOB, KYNE ALASTAIR\n",
      "MANAHAN, YVES\n",
      "MERHAN, ALESSANDRA SOFIA\n",
      "NUCUM, GIANELLI MARELLA\n",
      "PENOLIO, ANDRE\n",
      "REYES, RODNEY\n",
      "SANDAGAN, STEPHANIE\n",
      "SIMBAJON, JEREMY FLYNN\n",
      "UMALI, RALPH DWAYNE\n",
      "VITO, JUSTIN RUSSEL\n",
      "YAMADA, YOSHITOMI\n"
     ]
    }
   ],
   "source": [
    "# Use split to split the name\n",
    "split_names = [name.split() for name in names]\n",
    "\n",
    "# Arrange firstname-lastname to lastname-firstname\n",
    "for i in range(len(split_names)):\n",
    "    print(', '.join([split_names[i][-1], # Last name\n",
    "          ' '.join(split_names[i][:-1])])    # First / Middle name\n",
    "           )"
   ]
  }
 ],
 "metadata": {
  "kernelspec": {
   "display_name": "Python 3 (ipykernel)",
   "language": "python",
   "name": "python3"
  },
  "language_info": {
   "codemirror_mode": {
    "name": "ipython",
    "version": 3
   },
   "file_extension": ".py",
   "mimetype": "text/x-python",
   "name": "python",
   "nbconvert_exporter": "python",
   "pygments_lexer": "ipython3",
   "version": "3.9.6"
  }
 },
 "nbformat": 4,
 "nbformat_minor": 5
}
