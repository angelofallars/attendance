{
 "cells": [
  {
   "cell_type": "markdown",
   "id": "8c9069fd-4dba-4c43-8eb5-1800d7cbe558",
   "metadata": {},
   "source": [
    "### What this program does\n",
    "\n",
    "It simply gets a list of capitalized names from `students.txt`, and returns `sorted_students.txt` with the names going last name first, sorted alphabetically.\n",
    "\n",
    "This is for creating the attendance worksheet for my class, and potentially for other purposes as well.\n",
    "\n",
    "This program only accepts all-caps names in the format FIRST NAME - LAST NAME."
   ]
  },
  {
   "cell_type": "code",
   "execution_count": 43,
   "id": "de5bf1e7-559d-4ff5-a4e2-9de7ba4df8f5",
   "metadata": {},
   "outputs": [],
   "source": [
    "# Setup\n",
    "import re\n",
    "import pandas as pd\n",
    "import os"
   ]
  },
  {
   "cell_type": "code",
   "execution_count": 44,
   "id": "fc370500-604b-4429-a8ff-12b8c7d025cb",
   "metadata": {},
   "outputs": [],
   "source": [
    "# First, get the file\n",
    "with open('./students.txt') as file:\n",
    "    names = file.readlines()\n",
    "    \n",
    "# Strip the \\n newlines\n",
    "names = [i.rstrip('\\n') for i in names]"
   ]
  },
  {
   "cell_type": "code",
   "execution_count": 45,
   "id": "569a5bba-49bb-41c2-bcd0-2543eb32cca3",
   "metadata": {},
   "outputs": [],
   "source": [
    "# My class has 28 students so we should make sure they're 28\n",
    "assert len(names) == 28, 'Error'"
   ]
  },
  {
   "cell_type": "code",
   "execution_count": 46,
   "id": "881e2b9b-098a-453b-99e5-b7c657d2910d",
   "metadata": {},
   "outputs": [],
   "source": [
    "# Use split to split the name\n",
    "split_names = [name.split() for name in names]"
   ]
  },
  {
   "cell_type": "markdown",
   "id": "2f24da3b-edf3-424c-a61d-af13165bce27",
   "metadata": {},
   "source": [
    "**Edge case**\n",
    "\n",
    "In the Philippines, there exists last names such as \"De Guzman\" and \"De Castro\". We must account for these in making sure the list of names is sorted correctly by their last name."
   ]
  },
  {
   "cell_type": "code",
   "execution_count": 47,
   "id": "01965eb0-ae98-425e-a418-1d2ef20fec0d",
   "metadata": {},
   "outputs": [],
   "source": [
    "# Iterate through the whole students list for 'De'-type last names\n",
    "for i in range(len(split_names)):\n",
    "    current_name = split_names[i]\n",
    "    \n",
    "    if current_name[-2] == 'DE':\n",
    "        current_name[-1] = ' '.join([current_name.pop(-2), current_name[-1]])"
   ]
  },
  {
   "cell_type": "code",
   "execution_count": 48,
   "id": "c1b511ce-1c12-46eb-b6fe-711206942574",
   "metadata": {},
   "outputs": [],
   "source": [
    "last_names = []\n",
    "# Arrange firstname-lastname to lastname-firstname\n",
    "for i in range(len(split_names)):\n",
    "    last_names.append(', '.join([split_names[i][-1],  # Last name\n",
    "                      ' '.join(split_names[i][:-1])]) # First / Middle name\n",
    "                      )\n",
    "    \n",
    "# Finally, sort them alphabetically\n",
    "last_names.sort()"
   ]
  },
  {
   "cell_type": "code",
   "execution_count": 49,
   "id": "809ea9a1-0eaa-43a7-a842-78e4d3cf602b",
   "metadata": {},
   "outputs": [],
   "source": [
    "# Store them in a new file called 'sorted_students.txt'\n",
    "new_file = open('sorted_students.txt', 'w')\n",
    "\n",
    "# Write the sorted names\n",
    "for i in range(len(last_names)):\n",
    "    if i < len(last_names) - 1:\n",
    "        new_file.write(last_names[i] + '\\n')\n",
    "    # Edge case for last entry so that there's no blank line at end of file\n",
    "    else:\n",
    "        new_file.write(last_names[i])\n",
    "    \n",
    "# Close the file\n",
    "new_file.close()"
   ]
  }
 ],
 "metadata": {
  "kernelspec": {
   "display_name": "Python 3 (ipykernel)",
   "language": "python",
   "name": "python3"
  },
  "language_info": {
   "codemirror_mode": {
    "name": "ipython",
    "version": 3
   },
   "file_extension": ".py",
   "mimetype": "text/x-python",
   "name": "python",
   "nbconvert_exporter": "python",
   "pygments_lexer": "ipython3",
   "version": "3.9.6"
  }
 },
 "nbformat": 4,
 "nbformat_minor": 5
}
